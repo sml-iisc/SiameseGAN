{
 "cells": [
  {
   "cell_type": "code",
   "execution_count": 23,
   "metadata": {},
   "outputs": [],
   "source": [
    "from PIL import Image\n",
    "#im = Image.open(\"bride.jpg\")\n",
    "#im.rotate(45).show()\n",
    "from PIL import Image, ImageEnhance\n",
    "image = Image.open('train/average/1.tif')\n",
    "contrast = ImageEnhance.Contrast(image) \n",
    "contrast.enhance(2).save('1_2c.tif')\n",
    "\n",
    "for i in range(10):\n",
    "    im = Image.open('train/average/'+str(i+1)+'.tif')\n",
    "    contrast = ImageEnhance.Contrast(im) \n",
    "    contrast.enhance(1.5).save('train/average/'+str(i+1)+'.tif')\n"
   ]
  },
  {
   "cell_type": "code",
   "execution_count": 30,
   "metadata": {},
   "outputs": [],
   "source": [
    "for i in range(10):\n",
    "    im = Image.open('train/average/'+str(i+1)+'.tif')\n",
    "    im = im.rotate(180)\n",
    "    im.save('train/average/'+str(i+1)+'_r.tif')"
   ]
  },
  {
   "cell_type": "code",
   "execution_count": 28,
   "metadata": {},
   "outputs": [],
   "source": [
    "for i in range(10):\n",
    "    im = Image.open('train/average/'+str(i+1)+'.tif')\n",
    "    im = im.transpose(Image.FLIP_LEFT_RIGHT)\n",
    "    im.save('train/average/'+str(i+1)+'_flr.tif')"
   ]
  },
  {
   "cell_type": "code",
   "execution_count": 29,
   "metadata": {},
   "outputs": [],
   "source": [
    "for i in range(10):\n",
    "    im = Image.open('train/average/'+str(i+1)+'.tif')\n",
    "    im = im.transpose(Image.FLIP_TOP_BOTTOM)\n",
    "    im.save('train/average/'+str(i+1)+'_ftb.tif')"
   ]
  },
  {
   "cell_type": "code",
   "execution_count": 9,
   "metadata": {},
   "outputs": [],
   "source": [
    "from PIL import Image, ImageEnhance\n",
    "image = Image.open('train/average/1.tif')\n",
    "contrast = ImageEnhance.Contrast(image) \n",
    "contrast.enhance(2).save('1_2c.tif')"
   ]
  },
  {
   "cell_type": "code",
   "execution_count": null,
   "metadata": {},
   "outputs": [],
   "source": []
  }
 ],
 "metadata": {
  "kernelspec": {
   "display_name": "Python 3",
   "language": "python",
   "name": "python3"
  },
  "language_info": {
   "codemirror_mode": {
    "name": "ipython",
    "version": 3
   },
   "file_extension": ".py",
   "mimetype": "text/x-python",
   "name": "python",
   "nbconvert_exporter": "python",
   "pygments_lexer": "ipython3",
   "version": "3.6.8"
  }
 },
 "nbformat": 4,
 "nbformat_minor": 2
}
