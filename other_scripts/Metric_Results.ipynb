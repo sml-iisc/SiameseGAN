{
 "cells": [
  {
   "cell_type": "code",
   "execution_count": 1,
   "metadata": {},
   "outputs": [],
   "source": [
    "from PIL import Image\n",
    "import scipy.stats  \n",
    "import numpy as np\n",
    " "
   ]
  },
  {
   "cell_type": "code",
   "execution_count": 2,
   "metadata": {
    "scrolled": true
   },
   "outputs": [
    {
     "name": "stdout",
     "output_type": "stream",
     "text": [
      "2.9534398842971723\n",
      "2.9661105390296334\n",
      "3.6201314072395308\n",
      "3.3854304180853685\n",
      "2.651429598810583\n",
      "2.323273395387243\n",
      "2.462038487953855\n",
      "2.479242273186201\n",
      "2.9037175256125782\n",
      "2.9699630879937993\n"
     ]
    }
   ],
   "source": [
    "for i in range(10):\n",
    "    im = Image.open('train/average/'+str(i+1)+'.tif')\n",
    "    snr =  np.mean(im)/np.std(im)\n",
    "    print(snr)"
   ]
  },
  {
   "cell_type": "code",
   "execution_count": null,
   "metadata": {},
   "outputs": [],
   "source": [
    "import cv2 \n",
    "#for i in range(10):\n",
    "im = cv2.imread('train/average/1.tif',0)\n",
    " \n",
    "#r = cv2.selectROI(im)\n",
    "#cv2.imshow('image', r)\n",
    "#r = [10,50,50,50]    \n",
    "    # Crop image\n",
    "#imCrop = im[int(r[1]):int(r[1]+r[3]), int(r[0]):int(r[0]+r[2])]\n",
    " \n",
    "    # Display cropped image\n",
    "print(im)\n",
    "cv2.startWindowThread()\n",
    "cv2.namedWindow(\"preview\")\n",
    "cv2.imshow(\"preview\", im)\n",
    "\n",
    "cv2.waitKey()"
   ]
  },
  {
   "cell_type": "code",
   "execution_count": 5,
   "metadata": {},
   "outputs": [
    {
     "name": "stdout",
     "output_type": "stream",
     "text": [
      "255\n",
      "28.02503250791894\n"
     ]
    }
   ],
   "source": [
    "import numpy \n",
    "import math\n",
    "import cv2\n",
    "original = cv2.imread(\"GAN/SBSDI_results/average1.png\")\n",
    "contrast = cv2.imread(\"GAN/SBSDI_results/results1.png\")\n",
    "\n",
    "def psnr(img1, img2):\n",
    "    mse = numpy.mean( (img1 - img2) ** 2 )\n",
    "    if mse == 0:\n",
    "        return 100\n",
    "    PIXEL_MAX = numpy.amax(img1)\n",
    "    print(PIXEL_MAX)\n",
    "    return 20 * math.log10(PIXEL_MAX / math.sqrt(mse))\n",
    "\n",
    "d=psnr(original,contrast)\n",
    "print(d)"
   ]
  },
  {
   "cell_type": "code",
   "execution_count": null,
   "metadata": {},
   "outputs": [],
   "source": []
  }
 ],
 "metadata": {
  "kernelspec": {
   "display_name": "Python 3",
   "language": "python",
   "name": "python3"
  },
  "language_info": {
   "codemirror_mode": {
    "name": "ipython",
    "version": 3
   },
   "file_extension": ".py",
   "mimetype": "text/x-python",
   "name": "python",
   "nbconvert_exporter": "python",
   "pygments_lexer": "ipython3",
   "version": "3.6.8"
  }
 },
 "nbformat": 4,
 "nbformat_minor": 2
}
